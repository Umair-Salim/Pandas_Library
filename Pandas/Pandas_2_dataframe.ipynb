{
 "cells": [
  {
   "cell_type": "markdown",
   "id": "fe30a866",
   "metadata": {},
   "source": [
    "# DataFrames"
   ]
  },
  {
   "cell_type": "code",
   "execution_count": 2,
   "id": "3150fa5c",
   "metadata": {},
   "outputs": [
    {
     "name": "stdout",
     "output_type": "stream",
     "text": [
      "   0\n",
      "0  1\n",
      "1  2\n",
      "2  3\n",
      "3  4\n",
      "4  5\n",
      "5  6\n",
      "<class 'pandas.core.frame.DataFrame'>\n"
     ]
    }
   ],
   "source": [
    "import pandas as pd\n",
    "\n",
    "#creating dataframe from a list\n",
    "\n",
    "l = [1,2,3,4,5,6]                                                              #creating list\n",
    "\n",
    "var = pd.DataFrame(l)                                                          # converting to dataframe\n",
    "\n",
    "print(var)                                                                     #printing dataframe\n",
    "print(type(var))                                                               #printing type"
   ]
  },
  {
   "cell_type": "code",
   "execution_count": 9,
   "id": "5efaef43",
   "metadata": {},
   "outputs": [
    {
     "name": "stdout",
     "output_type": "stream",
     "text": [
      "   a  s  d  1\n",
      "0  1  1  1  1\n",
      "1  2  2  2  2\n",
      "2  3  3  3  3\n",
      "3  4  4  4  4\n",
      "4  5  5  5  5\n",
      "<class 'pandas.core.frame.DataFrame'>\n",
      "4\n"
     ]
    }
   ],
   "source": [
    "#creating dataframe from a dictionary\n",
    "\n",
    "d = {'a':[1,2,3,4,5], 's':[1,2,3,4,5], 'd':[1,2,3,4,5], 1:[1,2,3,4,5]}        #creating a dictionary\n",
    "\n",
    "var1 = pd.DataFrame(d)                                                        #converting to dataframe\n",
    "\n",
    "print(var1)                                                                   #printing dataframe\n",
    "print(type(var1))                                                             #printing type \n",
    "print(var1['a'][3])                                                           #printing specific value"
   ]
  },
  {
   "cell_type": "code",
   "execution_count": 11,
   "id": "1b9bb290",
   "metadata": {},
   "outputs": [
    {
     "name": "stdout",
     "output_type": "stream",
     "text": [
      "    0   1   2   3   4\n",
      "0   1   2   3   4   5\n",
      "1  11  12  13  14  15\n",
      "<class 'pandas.core.frame.DataFrame'>\n"
     ]
    }
   ],
   "source": [
    "#creating dataframe from multiple lists\n",
    "\n",
    "list_1 = [1,2,3,4,5,],[11,12,13,14,15]                                        #creating a list of lists\n",
    "\n",
    "var2 = pd.DataFrame(list_1)                                                   #converting to dataframe\n",
    "\n",
    "print(var2)                                                                   #printing dataframe\n",
    "print(type(var2))                                                             #printing type"
   ]
  },
  {
   "cell_type": "code",
   "execution_count": 12,
   "id": "5e21d922",
   "metadata": {},
   "outputs": [
    {
     "name": "stdout",
     "output_type": "stream",
     "text": [
      "   s  r\n",
      "0  1  1\n",
      "1  2  2\n",
      "2  3  3\n",
      "3  4  4\n",
      "<class 'pandas.core.frame.DataFrame'>\n"
     ]
    }
   ],
   "source": [
    "#creating dataframe from pandas series\n",
    "\n",
    "sr = {\"s\":pd.Series([1,2,3,4]), \"r\":pd.Series([1,2,3,4])}                     # creating a dictionary of series\n",
    "\n",
    "var3 = pd.DataFrame(sr)                                                       # converting to dataframe\n",
    "\n",
    "print(var3)                                                                   # printing dataframe\n",
    "print(type(var3))                                                             # printing type"
   ]
  },
  {
   "cell_type": "code",
   "execution_count": null,
   "id": "95b2c4e2",
   "metadata": {},
   "outputs": [],
   "source": []
  }
 ],
 "metadata": {
  "kernelspec": {
   "display_name": "Python 3 (ipykernel)",
   "language": "python",
   "name": "python3"
  },
  "language_info": {
   "codemirror_mode": {
    "name": "ipython",
    "version": 3
   },
   "file_extension": ".py",
   "mimetype": "text/x-python",
   "name": "python",
   "nbconvert_exporter": "python",
   "pygments_lexer": "ipython3",
   "version": "3.9.12"
  }
 },
 "nbformat": 4,
 "nbformat_minor": 5
}
