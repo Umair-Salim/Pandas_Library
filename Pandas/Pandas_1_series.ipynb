{
 "cells": [
  {
   "cell_type": "markdown",
   "id": "bf247e35",
   "metadata": {},
   "source": [
    "# Series"
   ]
  },
  {
   "cell_type": "code",
   "execution_count": 8,
   "id": "b6d9902e",
   "metadata": {},
   "outputs": [
    {
     "name": "stdout",
     "output_type": "stream",
     "text": [
      "a    3.0\n",
      "s    4.0\n",
      "d    5.0\n",
      "f    6.0\n",
      "Name: python, dtype: float64\n",
      "<class 'pandas.core.series.Series'>\n",
      "5.0\n"
     ]
    }
   ],
   "source": [
    "import pandas as pd\n",
    "\n",
    "x =[3,4,5,6]                                                                #creating a list\n",
    "var = pd.Series(x,index=[\"a\",\"s\",\"d\",\"f\"],dtype=\"float\",name=\"python\")      #converting to series\n",
    "\n",
    "print(var)                                                                  #printing series\n",
    "print(type(var))                                                            #printing type\n",
    "print(var[2])                                                               #printing second index  "
   ]
  },
  {
   "cell_type": "code",
   "execution_count": 10,
   "id": "010fe1f9",
   "metadata": {},
   "outputs": [
    {
     "name": "stdout",
     "output_type": "stream",
     "text": [
      "name    [python, c, c++, java]\n",
      "pop           [12, 13, 14, 15]\n",
      "rank              [1, 4, 3, 2]\n",
      "dtype: object\n"
     ]
    }
   ],
   "source": [
    "dic = {\"name\":[\"python\",\"c\",\"c++\",\"java\"], \"pop\":[12,13,14,15], \"rank\":[1,4,3,2]}   #creating dictionary\n",
    "\n",
    "var1 = pd.Series(dic)                                                               # concerting to series\n",
    "\n",
    "print(var1)                                                                         # printing series\n"
   ]
  },
  {
   "cell_type": "code",
   "execution_count": 14,
   "id": "d4f2d199",
   "metadata": {},
   "outputs": [
    {
     "name": "stdout",
     "output_type": "stream",
     "text": [
      "1    12\n",
      "2    12\n",
      "3    12\n",
      "4    12\n",
      "5    12\n",
      "6    12\n",
      "7    12\n",
      "dtype: int64\n",
      "<class 'pandas.core.series.Series'>\n"
     ]
    }
   ],
   "source": [
    "s = pd.Series(12,index =[1,2,3,4,5,6,7])                                           # creating series from single no\n",
    "\n",
    "print(s)                                                                           #printing series\n",
    "print(type(s))                                                                     #printing type"
   ]
  },
  {
   "cell_type": "code",
   "execution_count": 17,
   "id": "f34cf628",
   "metadata": {},
   "outputs": [
    {
     "name": "stdout",
     "output_type": "stream",
     "text": [
      "1    24.0\n",
      "2    24.0\n",
      "3    24.0\n",
      "4    24.0\n",
      "5     NaN\n",
      "6     NaN\n",
      "7     NaN\n",
      "dtype: float64\n"
     ]
    }
   ],
   "source": [
    "s1 = pd.Series(12,index =[1,2,3,4,5,6,7])                                          #creating series s1\n",
    "s2 = pd.Series(12,index =[1,2,3,4])                                                #creating series s2\n",
    "\n",
    "print(s1+s2)                                                                       #adding s1 and s2\n",
    "'''\n",
    "Difference between numpy array and pandas series is that when the length of series is different pandas performs the \n",
    "operation on the series and declares NAN where index is missing where as numpy array gives a broadcast error without \n",
    "performing operation.\n",
    "'''"
   ]
  },
  {
   "cell_type": "code",
   "execution_count": null,
   "id": "45570e75",
   "metadata": {},
   "outputs": [],
   "source": []
  }
 ],
 "metadata": {
  "kernelspec": {
   "display_name": "Python 3 (ipykernel)",
   "language": "python",
   "name": "python3"
  },
  "language_info": {
   "codemirror_mode": {
    "name": "ipython",
    "version": 3
   },
   "file_extension": ".py",
   "mimetype": "text/x-python",
   "name": "python",
   "nbconvert_exporter": "python",
   "pygments_lexer": "ipython3",
   "version": "3.9.12"
  }
 },
 "nbformat": 4,
 "nbformat_minor": 5
}
