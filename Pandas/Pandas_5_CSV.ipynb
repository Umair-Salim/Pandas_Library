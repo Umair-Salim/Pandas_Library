{
 "cells": [
  {
   "cell_type": "markdown",
   "id": "cfb606dd",
   "metadata": {},
   "source": [
    "# Write CSV\n",
    "**Differences between CSV and XLS(excel) file formats:**\n",
    "1. `CSV` format is a plain text format in which values are separated by commas(Comma Separated values)\n",
    "2. `XLS` file format is an Excel Sheets binary file format which hols information about all the worksheets in a file, including both content and formatting"
   ]
  },
  {
   "cell_type": "code",
   "execution_count": 5,
   "id": "49085ffe",
   "metadata": {},
   "outputs": [
    {
     "name": "stdout",
     "output_type": "stream",
     "text": [
      "   a  s  d\n",
      "0  1  1  1\n",
      "1  2  2  2\n",
      "2  3  3  3\n",
      "3  4  4  4\n",
      "4  5  5  5\n",
      "5  6  6  6\n"
     ]
    }
   ],
   "source": [
    "import pandas as pd                                                     #Importing Pandas \n",
    "\n",
    "dis = {\"a\":[1,2,3,4,5,6],\"s\":[1,2,3,4,5,6],\"d\":[1,2,3,4,5,6]}           #Creating dictionary\n",
    "\n",
    "d = pd.DataFrame(dis)                                                   #Converting to a dataframe\n",
    "\n",
    "print(d)                                                                #Printing dataframe\n",
    "\n",
    "d.to_csv(\"Test_new.csv\")                                                #Saving to a csv file\n",
    "\n",
    "d.to_csv(\"Test_new1.csv\",index=False)                                   #Saving to csv file without index\n",
    "\n",
    "d.to_csv(\"Test_new2.csv\",index=False,header=[1,2,3])                    #Saving to a csv without index and a new header"
   ]
  },
  {
   "cell_type": "code",
   "execution_count": null,
   "id": "69ad9c56",
   "metadata": {},
   "outputs": [],
   "source": []
  }
 ],
 "metadata": {
  "kernelspec": {
   "display_name": "Python 3 (ipykernel)",
   "language": "python",
   "name": "python3"
  },
  "language_info": {
   "codemirror_mode": {
    "name": "ipython",
    "version": 3
   },
   "file_extension": ".py",
   "mimetype": "text/x-python",
   "name": "python",
   "nbconvert_exporter": "python",
   "pygments_lexer": "ipython3",
   "version": "3.9.12"
  }
 },
 "nbformat": 4,
 "nbformat_minor": 5
}
